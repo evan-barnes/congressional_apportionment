{
 "cells": [
  {
   "cell_type": "markdown",
   "metadata": {},
   "source": [
    "Going to use the rule of equal apportionment to figure out how house is apportioned. I know it uses \n",
    "geometric mean, rather than algebraic, so I want to compare what that would look like with algebraic.\n",
    "\n",
    "Need:\n",
    "-list of states\n",
    "-population of states\n",
    "-a class for states\n",
    "--each object needs to have an attribute that is priority level calculated by rule of equal apportionment\n",
    "--maybe each object stores its own number of reps as well\n",
    "\n",
    "make a list of tuples of state name and populations, then pass each of those into the state object to create an instance for each state\n",
    "\n",
    "Each state gets at least one rep, so there are 435-50=385 reps to assign through the rule\n",
    "\n",
    "make a list of all state objects. use the max() function on the list of states to return the object\n",
    "with the largest .priority attribute.\n",
    "\n",
    "I think I need to web scrape wikipedia to get the state populations into a list. perfect use case for what i'm learning."
   ]
  },
  {
   "cell_type": "code",
   "execution_count": 1,
   "metadata": {},
   "outputs": [],
   "source": [
    "import math"
   ]
  },
  {
   "cell_type": "code",
   "execution_count": 2,
   "metadata": {},
   "outputs": [],
   "source": [
    "class State:\n",
    "    def __init__(self, state, pop):\n",
    "        self.state = state\n",
    "        self.pop = pop\n",
    "        self.priority = 0\n",
    "        self.reps = 1\n",
    "        self.n = 2\n",
    "        self.multiplier = 1/(math.sqrt(self.n*(self.n-1)))\n",
    "    def calc_priority(self):\n",
    "        self.priority = self.pop * self.multiplier\n",
    "        #print(self.priority)\n",
    "    def add_rep(self):\n",
    "        self.reps +=1\n",
    "        self.n += 1\n",
    "        self.multiplier = 1/(math.sqrt(self.n*(self.n-1)))"
   ]
  },
  {
   "cell_type": "code",
   "execution_count": 3,
   "metadata": {},
   "outputs": [],
   "source": [
    "state_names = ['Alabama', 'Alaska', 'Arizona', 'Arkansas', 'California', 'Colorado', 'Connecticut', \n",
    "    'Delaware', 'Florida', 'Georgia', 'Hawaii', 'Idaho', 'Illinois', 'Indiana', 'Iowa', 'Kansas',\n",
    "    'Kentucky', 'Louisiana', 'Maine', 'Maryland', 'Massachusetts', 'Michigan', 'Minnesota',\n",
    "    'Mississippi', 'Missouri', 'Montana', 'Nebraska', 'Nevada', 'New Hampshire', 'New Jersey',\n",
    "    'New Mexico', 'New York', 'North Carolina', 'North Dakota', 'Ohio', 'Oklahoma', 'Oregon',\n",
    "    'Pennsylvania', 'Rhode Island', 'South Carolina', 'South Dakota', 'Tennessee', 'Texas', 'Utah',\n",
    "    'Vermont', 'Virginia', 'Washington', 'West Virginia', 'Wisconsin', 'Wyoming']"
   ]
  },
  {
   "cell_type": "code",
   "execution_count": 4,
   "metadata": {},
   "outputs": [],
   "source": [
    "state_pops_alphabetical = [5024279, 733391, 7151502, 3011524, 39538223, 5773714, 3605944, 989948,\n",
    "    21538187, 10711908, 1455271, 1839106, 12812508, 6785528, 3190369, 2937880, 4505836, 4657757,\n",
    "    1362359, 6177224, 7029917, 10077331, 5706494, 2961279, 6154913, 1084225, 1961504, 3104614,\n",
    "    1377529, 9288994, 2117522, 20201249, 10439388, 779094, 11799448, 3959353, 4237256, 13002700,\n",
    "    1097379, 5118425, 886667, 6910840, 29145505, 3271616, 643077, 8631393, 7705281, 1793716, 5893718,\n",
    "    576851]"
   ]
  },
  {
   "cell_type": "code",
   "execution_count": 5,
   "metadata": {},
   "outputs": [],
   "source": [
    "names_pops = list(tuple((zip(state_names,state_pops_alphabetical))))"
   ]
  },
  {
   "cell_type": "code",
   "execution_count": 6,
   "metadata": {},
   "outputs": [],
   "source": [
    "def get_seat_winner(states_list):\n",
    "    #this iterates through the list of states, compares all of the priority values, and returns \n",
    "    #the object that has the highest priority number.\n",
    "    winner = None\n",
    "    priorities = [0]\n",
    "    for state in states_list:\n",
    "        #print(f'{state.state}   {state.pop}   {state.priority}')\n",
    "        if state.priority > max(priorities):\n",
    "            winner = state\n",
    "        priorities.append(state.priority)\n",
    "    #print(winner.state)\n",
    "    return winner"
   ]
  },
  {
   "cell_type": "code",
   "execution_count": 15,
   "metadata": {},
   "outputs": [
    {
     "name": "stdout",
     "output_type": "stream",
     "text": [
      "Alabama         7 reps\n",
      "Alaska          1 reps\n",
      "Arizona         9 reps\n",
      "Arkansas        4 reps\n",
      "California      52 reps\n",
      "Colorado        8 reps\n",
      "Connecticut     5 reps\n",
      "Delaware        1 reps\n",
      "Florida         28 reps\n",
      "Georgia         14 reps\n",
      "Hawaii          2 reps\n",
      "Idaho           2 reps\n",
      "Illinois        17 reps\n",
      "Indiana         9 reps\n",
      "Iowa            4 reps\n",
      "Kansas          4 reps\n",
      "Kentucky        6 reps\n",
      "Louisiana       6 reps\n",
      "Maine           2 reps\n",
      "Maryland        8 reps\n",
      "Massachusetts   9 reps\n",
      "Michigan        13 reps\n",
      "Minnesota       8 reps\n",
      "Mississippi     4 reps\n",
      "Missouri        8 reps\n",
      "Montana         2 reps\n",
      "Nebraska        3 reps\n",
      "Nevada          4 reps\n",
      "New Hampshire   2 reps\n",
      "New Jersey      12 reps\n",
      "New Mexico      3 reps\n",
      "New York        26 reps\n",
      "North Carolina  14 reps\n",
      "North Dakota    1 reps\n",
      "Ohio            15 reps\n",
      "Oklahoma        5 reps\n",
      "Oregon          6 reps\n",
      "Pennsylvania    17 reps\n",
      "Rhode Island    2 reps\n",
      "South Carolina  7 reps\n",
      "South Dakota    1 reps\n",
      "Tennessee       9 reps\n",
      "Texas           38 reps\n",
      "Utah            4 reps\n",
      "Vermont         1 reps\n",
      "Virginia        11 reps\n",
      "Washington      10 reps\n",
      "West Virginia   2 reps\n",
      "Wisconsin       8 reps\n",
      "Wyoming         1 reps\n"
     ]
    }
   ],
   "source": [
    "states = [State(name,pop) for name, pop in names_pops]\n",
    "\n",
    "for _ in range(1,386):\n",
    "    #recalc priorities for every state\n",
    "    #get the winner for this round\n",
    "    #add rep to winner\n",
    "    winner = None\n",
    "    current_priorities = []\n",
    "    for state in states:\n",
    "        state.calc_priority()\n",
    "        current_priorities.append(state.priority)\n",
    "    winner = get_seat_winner(states)\n",
    "    winner.add_rep()\n",
    "    #print(f'{winner.state}   {winner.reps}    {winner.priority}')\n",
    "\n",
    "for state in states:\n",
    "    print(f'{state.state:<16}{state.reps} reps')"
   ]
  }
 ],
 "metadata": {
  "kernelspec": {
   "display_name": "Python 3",
   "language": "python",
   "name": "python3"
  },
  "language_info": {
   "codemirror_mode": {
    "name": "ipython",
    "version": 3
   },
   "file_extension": ".py",
   "mimetype": "text/x-python",
   "name": "python",
   "nbconvert_exporter": "python",
   "pygments_lexer": "ipython3",
   "version": "3.8.5"
  }
 },
 "nbformat": 4,
 "nbformat_minor": 4
}
